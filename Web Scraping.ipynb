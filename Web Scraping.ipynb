{
 "cells": [
  {
   "cell_type": "code",
   "execution_count": 12,
   "id": "b7051ef9",
   "metadata": {},
   "outputs": [],
   "source": [
    "import pandas as pd\n",
    "import requests\n",
    "from bs4 import BeautifulSoup\n",
    "import numpy as np"
   ]
  },
  {
   "cell_type": "code",
   "execution_count": 21,
   "id": "330ee05f",
   "metadata": {},
   "outputs": [],
   "source": [
    "# webpage = requests.get('https://www.ambitionbox.com/list-of-companies?page=1').text"
   ]
  },
  {
   "cell_type": "code",
   "execution_count": 23,
   "id": "7f4cbdcf",
   "metadata": {},
   "outputs": [],
   "source": [
    "# soup = BeautifulSoup(webpage,'lxml')"
   ]
  },
  {
   "cell_type": "code",
   "execution_count": 158,
   "id": "8c3636e2",
   "metadata": {},
   "outputs": [],
   "source": [
    "# print(soup.prettify())"
   ]
  },
  {
   "cell_type": "code",
   "execution_count": 159,
   "id": "f77276bd",
   "metadata": {},
   "outputs": [],
   "source": [
    "# soup.find('h1').text"
   ]
  },
  {
   "cell_type": "code",
   "execution_count": 32,
   "id": "43ed28ba",
   "metadata": {},
   "outputs": [
    {
     "data": {
      "text/plain": [
       "30"
      ]
     },
     "execution_count": 32,
     "metadata": {},
     "output_type": "execute_result"
    }
   ],
   "source": [
    "# len(soup.find_all('h2'))"
   ]
  },
  {
   "cell_type": "code",
   "execution_count": 160,
   "id": "dd88b37d",
   "metadata": {},
   "outputs": [],
   "source": [
    "# for i in soup.find_all('h2'):\n",
    "#     print(i.text.strip())  # strip used for remove unnecessary space "
   ]
  },
  {
   "cell_type": "code",
   "execution_count": 157,
   "id": "80a07ac7",
   "metadata": {},
   "outputs": [],
   "source": [
    "# soup.find_all('a',class_='review-count')"
   ]
  },
  {
   "cell_type": "code",
   "execution_count": 47,
   "id": "2138fe03",
   "metadata": {},
   "outputs": [],
   "source": [
    "# company = soup.find_all('div',class_='company-content-wrapper')"
   ]
  },
  {
   "cell_type": "code",
   "execution_count": 161,
   "id": "208337ce",
   "metadata": {},
   "outputs": [],
   "source": [
    "# len(company)"
   ]
  },
  {
   "cell_type": "code",
   "execution_count": 96,
   "id": "2130da8e",
   "metadata": {},
   "outputs": [],
   "source": [
    "# name=[]\n",
    "# rating=[]\n",
    "# reviews=[]\n",
    "# comtype=[]\n",
    "# hq=[]\n",
    "# how_old=[]\n",
    "# no_of_employee=[]"
   ]
  },
  {
   "cell_type": "code",
   "execution_count": 92,
   "id": "9a0cd8b7",
   "metadata": {},
   "outputs": [],
   "source": [
    "#for i in company:\n",
    "    \n",
    " #   name.append(i.find('h2').text.strip())\n",
    "  #  rating.append(i.find('p',class_='rating').text.strip())\n",
    "    # if there has a chance to get multiple values then use 'find_all' it will return all the \n",
    "    # values in a list. for extracting this list we have to use [0]. \n",
    "    # like: rating.append(i.find_all('p',class_='rating')[0].text.strip()) \n",
    "    \n",
    "   # reviews.append(i.find('a',class_='review-count').text.strip())\n",
    "    #reviews.append(i.findAll('a' , class_='review-count')[0].text.strip())\n",
    "    \n",
    "    #comtype.append(i.find_all('p',class_='infoEntity')[0].text.strip())\n",
    "    #hq.append(i.find_all('p',class_='infoEntity')[1].text.strip())\n",
    "    #old.append(i.find_all('p',class_='infoEntity')[2].text.strip())\n",
    "    # employees.append(i.find_all('p',class_='infoEntity')[0].text.strip())\n",
    "    \n",
    "#d = {'name':name, 'rating':rating}    \n",
    "    \n",
    "    "
   ]
  },
  {
   "cell_type": "code",
   "execution_count": 162,
   "id": "c6e9f803",
   "metadata": {},
   "outputs": [],
   "source": [
    "# for i in company:\n",
    "\n",
    "#     try:\n",
    "#        name.append(i.find('h2').text.strip())\n",
    "#     except:\n",
    "#        name.append(np.nan)\n",
    "\n",
    "#     try:\n",
    "#        rating.append(i.find('p',class_='rating').text.strip())\n",
    "#     except:\n",
    "#        rating.append(np.nan)\n",
    "   \n",
    "#     try:\n",
    "\n",
    "#       reviews.append(i.find('a' , class_='review-count').text.strip())\n",
    "#     except:\n",
    "#       reviews.append(np.nan)\n",
    "\n",
    "#     try:\n",
    "\n",
    "#       comtype.append(i.find_all('p',class_='infoEntity')[0].text.strip())\n",
    "#     except:\n",
    "#       comtype.append(np.nan)\n",
    "#     try:\n",
    "\n",
    "#       hq.append(i.find_all('p',class_='infoEntity')[1].text.strip())\n",
    "#     except:\n",
    "#       hq.append(np.nan)\n",
    "    \n",
    "#     try:\n",
    "\n",
    "#       how_old.append(i.find_all('p',class_='infoEntity')[2].text.strip())\n",
    "#     except:\n",
    "#       how_old.append(np.nan)\n",
    "#     try:\n",
    "#       no_of_employee.append(i.find_all('p',class_='infoEntity')[3].text.strip())\n",
    "#     except:\n",
    "#       no_of_employee.append(np.nan)"
   ]
  },
  {
   "cell_type": "code",
   "execution_count": 163,
   "id": "acc184a5",
   "metadata": {},
   "outputs": [],
   "source": [
    "# hq"
   ]
  },
  {
   "cell_type": "code",
   "execution_count": 164,
   "id": "bfbd11ca",
   "metadata": {},
   "outputs": [],
   "source": [
    "# df=pd.DataFrame({'name':name,\n",
    "#     'rating':rating,\n",
    "#     'reviews':reviews,\n",
    "#     'company_type':comtype,\n",
    "#     'Head_Quarters':hq,\n",
    "#     'Company_Age':how_old,\n",
    "#     'No_of_Employee':no_of_employee,\n",
    "#     })"
   ]
  },
  {
   "cell_type": "code",
   "execution_count": 165,
   "id": "efbbec5c",
   "metadata": {},
   "outputs": [],
   "source": [
    "# df"
   ]
  },
  {
   "cell_type": "markdown",
   "id": "a3c1b443",
   "metadata": {},
   "source": [
    "**upper task for one page. there has 333 pages. now work for all the pages**"
   ]
  },
  {
   "cell_type": "markdown",
   "id": "b6061a39",
   "metadata": {},
   "source": [
    "# Create DataFrame() for 333 pages [Final]"
   ]
  },
  {
   "cell_type": "code",
   "execution_count": 147,
   "id": "c6d25413",
   "metadata": {},
   "outputs": [],
   "source": [
    "# define empty data frame\n",
    "\n",
    "final_data_frame = pd.DataFrame() "
   ]
  },
  {
   "cell_type": "code",
   "execution_count": null,
   "id": "5e74cbc1",
   "metadata": {},
   "outputs": [],
   "source": []
  },
  {
   "cell_type": "code",
   "execution_count": 148,
   "id": "035a96bd",
   "metadata": {},
   "outputs": [],
   "source": [
    "# define empty list\n",
    "name=[]\n",
    "rating=[]\n",
    "reviews=[]\n",
    "comtype=[]\n",
    "hq=[]\n",
    "how_old=[]\n",
    "no_of_employee=[]"
   ]
  },
  {
   "cell_type": "code",
   "execution_count": 149,
   "id": "0a1a795c",
   "metadata": {},
   "outputs": [],
   "source": [
    "# loop for 333 pages\n",
    "\n",
    "for page in range(1,333):\n",
    "    webpage = requests.get('https://www.ambitionbox.com/list-of-companies?page={}'.format(page)).text\n",
    "    soup = BeautifulSoup(webpage,'lxml')\n",
    "    company = soup.find_all('div',class_='company-content-wrapper') # total company in one page\n",
    "    \n",
    "    \n",
    "    # loop for every company which is exist in single page.\n",
    "    \n",
    "    for i in company:\n",
    "\n",
    "        try:\n",
    "           name.append(i.find('h2').text.strip())\n",
    "        except:\n",
    "           name.append(np.nan)\n",
    "\n",
    "        try:\n",
    "           rating.append(i.find('p',class_='rating').text.strip())\n",
    "        except:\n",
    "           rating.append(np.nan)\n",
    "\n",
    "        try:\n",
    "\n",
    "          reviews.append(i.find('a' , class_='review-count').text.strip())\n",
    "        except:\n",
    "          reviews.append(np.nan)\n",
    "\n",
    "        try:\n",
    "\n",
    "          comtype.append(i.find_all('p',class_='infoEntity')[0].text.strip())\n",
    "        except:\n",
    "          comtype.append(np.nan)\n",
    "        try:\n",
    "\n",
    "          hq.append(i.find_all('p',class_='infoEntity')[1].text.strip())\n",
    "        except:\n",
    "          hq.append(np.nan)\n",
    "\n",
    "        try:\n",
    "\n",
    "          how_old.append(i.find_all('p',class_='infoEntity')[2].text.strip())\n",
    "        except:\n",
    "          how_old.append(np.nan)\n",
    "        try:\n",
    "          no_of_employee.append(i.find_all('p',class_='infoEntity')[3].text.strip())\n",
    "        except:\n",
    "          no_of_employee.append(np.nan)\n",
    "        \n",
    "        \n",
    "        # try except for: there has some null values in some companies attribute\n",
    "        "
   ]
  },
  {
   "cell_type": "code",
   "execution_count": 150,
   "id": "74177640",
   "metadata": {},
   "outputs": [],
   "source": [
    "# datafram for creating column wise data\n",
    "\n",
    "df=pd.DataFrame({'name':name,\n",
    "    'rating':rating,\n",
    "    'reviews':reviews,\n",
    "    'company_type':comtype,\n",
    "    'Head_Quarters':hq,\n",
    "    'Company_Age':how_old,\n",
    "    'No_of_Employee':no_of_employee,\n",
    "    })\n",
    "final_data_frame=final_data_frame.append(df,ignore_index=True)"
   ]
  },
  {
   "cell_type": "code",
   "execution_count": 151,
   "id": "74dc4dc3",
   "metadata": {},
   "outputs": [
    {
     "data": {
      "text/plain": [
       "(9959, 7)"
      ]
     },
     "execution_count": 151,
     "metadata": {},
     "output_type": "execute_result"
    }
   ],
   "source": [
    "final_data_frame.shape"
   ]
  },
  {
   "cell_type": "code",
   "execution_count": 155,
   "id": "7602f463",
   "metadata": {},
   "outputs": [
    {
     "data": {
      "text/html": [
       "<div>\n",
       "<style scoped>\n",
       "    .dataframe tbody tr th:only-of-type {\n",
       "        vertical-align: middle;\n",
       "    }\n",
       "\n",
       "    .dataframe tbody tr th {\n",
       "        vertical-align: top;\n",
       "    }\n",
       "\n",
       "    .dataframe thead th {\n",
       "        text-align: right;\n",
       "    }\n",
       "</style>\n",
       "<table border=\"1\" class=\"dataframe\">\n",
       "  <thead>\n",
       "    <tr style=\"text-align: right;\">\n",
       "      <th></th>\n",
       "      <th>name</th>\n",
       "      <th>rating</th>\n",
       "      <th>reviews</th>\n",
       "      <th>company_type</th>\n",
       "      <th>Head_Quarters</th>\n",
       "      <th>Company_Age</th>\n",
       "      <th>No_of_Employee</th>\n",
       "    </tr>\n",
       "  </thead>\n",
       "  <tbody>\n",
       "    <tr>\n",
       "      <th>0</th>\n",
       "      <td>TCS</td>\n",
       "      <td>3.9</td>\n",
       "      <td>(41k Reviews)</td>\n",
       "      <td>Public</td>\n",
       "      <td>Mumbai,Maharashtra + 238 more</td>\n",
       "      <td>54 years old</td>\n",
       "      <td>1 Lakh+ Employees (India)</td>\n",
       "    </tr>\n",
       "    <tr>\n",
       "      <th>1</th>\n",
       "      <td>Accenture</td>\n",
       "      <td>4.1</td>\n",
       "      <td>(27.4k Reviews)</td>\n",
       "      <td>Public</td>\n",
       "      <td>Dublin,Dublin + 132 more</td>\n",
       "      <td>33 years old</td>\n",
       "      <td>1 Lakh+ Employees (India)</td>\n",
       "    </tr>\n",
       "    <tr>\n",
       "      <th>2</th>\n",
       "      <td>Cognizant</td>\n",
       "      <td>3.9</td>\n",
       "      <td>(24.8k Reviews)</td>\n",
       "      <td>Private</td>\n",
       "      <td>Teaneck,New Jersey + 88 more</td>\n",
       "      <td>28 years old</td>\n",
       "      <td>1 Lakh+ Employees (India)</td>\n",
       "    </tr>\n",
       "    <tr>\n",
       "      <th>3</th>\n",
       "      <td>ICICI Bank</td>\n",
       "      <td>4.0</td>\n",
       "      <td>(31.7k Reviews)</td>\n",
       "      <td>Public</td>\n",
       "      <td>Mumbai,Maharashtra + 987 more</td>\n",
       "      <td>28 years old</td>\n",
       "      <td>50k-1 Lakh Employees (India)</td>\n",
       "    </tr>\n",
       "    <tr>\n",
       "      <th>4</th>\n",
       "      <td>Wipro</td>\n",
       "      <td>3.9</td>\n",
       "      <td>(23.3k Reviews)</td>\n",
       "      <td>Public</td>\n",
       "      <td>Bangalore/Bengaluru,Karnataka + 252 more</td>\n",
       "      <td>77 years old</td>\n",
       "      <td>1 Lakh+ Employees (India)</td>\n",
       "    </tr>\n",
       "    <tr>\n",
       "      <th>5</th>\n",
       "      <td>HDFC Bank</td>\n",
       "      <td>4.0</td>\n",
       "      <td>(32.7k Reviews)</td>\n",
       "      <td>Public</td>\n",
       "      <td>Mumbai,Maharashtra + 1102 more</td>\n",
       "      <td>28 years old</td>\n",
       "      <td>1 Lakh+ Employees (India)</td>\n",
       "    </tr>\n",
       "    <tr>\n",
       "      <th>6</th>\n",
       "      <td>Capgemini</td>\n",
       "      <td>3.9</td>\n",
       "      <td>(20.1k Reviews)</td>\n",
       "      <td>Public</td>\n",
       "      <td>Paris + 69 more</td>\n",
       "      <td>55 years old</td>\n",
       "      <td>1 Lakh+ Employees (India)</td>\n",
       "    </tr>\n",
       "    <tr>\n",
       "      <th>7</th>\n",
       "      <td>HCL Technologies</td>\n",
       "      <td>3.9</td>\n",
       "      <td>(19.8k Reviews)</td>\n",
       "      <td>Public</td>\n",
       "      <td>Noida,Uttar Pradesh + 158 more</td>\n",
       "      <td>46 years old</td>\n",
       "      <td>1 Lakh+ Employees (India)</td>\n",
       "    </tr>\n",
       "    <tr>\n",
       "      <th>8</th>\n",
       "      <td>Infosys</td>\n",
       "      <td>4.0</td>\n",
       "      <td>(23.7k Reviews)</td>\n",
       "      <td>Public</td>\n",
       "      <td>Bangalore/Bengaluru,Karnataka + 116 more</td>\n",
       "      <td>41 years old</td>\n",
       "      <td>1 Lakh+ Employees (India)</td>\n",
       "    </tr>\n",
       "    <tr>\n",
       "      <th>9</th>\n",
       "      <td>Tech Mahindra</td>\n",
       "      <td>3.7</td>\n",
       "      <td>(18.4k Reviews)</td>\n",
       "      <td>Public</td>\n",
       "      <td>Pune,Maharashtra + 181 more</td>\n",
       "      <td>36 years old</td>\n",
       "      <td>50k-1 Lakh Employees (India)</td>\n",
       "    </tr>\n",
       "  </tbody>\n",
       "</table>\n",
       "</div>"
      ],
      "text/plain": [
       "               name rating          reviews company_type  \\\n",
       "0               TCS    3.9    (41k Reviews)       Public   \n",
       "1         Accenture    4.1  (27.4k Reviews)       Public   \n",
       "2         Cognizant    3.9  (24.8k Reviews)      Private   \n",
       "3        ICICI Bank    4.0  (31.7k Reviews)       Public   \n",
       "4             Wipro    3.9  (23.3k Reviews)       Public   \n",
       "5         HDFC Bank    4.0  (32.7k Reviews)       Public   \n",
       "6         Capgemini    3.9  (20.1k Reviews)       Public   \n",
       "7  HCL Technologies    3.9  (19.8k Reviews)       Public   \n",
       "8           Infosys    4.0  (23.7k Reviews)       Public   \n",
       "9     Tech Mahindra    3.7  (18.4k Reviews)       Public   \n",
       "\n",
       "                              Head_Quarters   Company_Age  \\\n",
       "0             Mumbai,Maharashtra + 238 more  54 years old   \n",
       "1                  Dublin,Dublin + 132 more  33 years old   \n",
       "2              Teaneck,New Jersey + 88 more  28 years old   \n",
       "3             Mumbai,Maharashtra + 987 more  28 years old   \n",
       "4  Bangalore/Bengaluru,Karnataka + 252 more  77 years old   \n",
       "5            Mumbai,Maharashtra + 1102 more  28 years old   \n",
       "6                           Paris + 69 more  55 years old   \n",
       "7            Noida,Uttar Pradesh + 158 more  46 years old   \n",
       "8  Bangalore/Bengaluru,Karnataka + 116 more  41 years old   \n",
       "9               Pune,Maharashtra + 181 more  36 years old   \n",
       "\n",
       "                 No_of_Employee  \n",
       "0     1 Lakh+ Employees (India)  \n",
       "1     1 Lakh+ Employees (India)  \n",
       "2     1 Lakh+ Employees (India)  \n",
       "3  50k-1 Lakh Employees (India)  \n",
       "4     1 Lakh+ Employees (India)  \n",
       "5     1 Lakh+ Employees (India)  \n",
       "6     1 Lakh+ Employees (India)  \n",
       "7     1 Lakh+ Employees (India)  \n",
       "8     1 Lakh+ Employees (India)  \n",
       "9  50k-1 Lakh Employees (India)  "
      ]
     },
     "execution_count": 155,
     "metadata": {},
     "output_type": "execute_result"
    }
   ],
   "source": [
    "final_data_frame.head(10)"
   ]
  },
  {
   "cell_type": "code",
   "execution_count": 167,
   "id": "f75cc397",
   "metadata": {},
   "outputs": [],
   "source": [
    "final_data_frame.to_csv('List of companies in India.csv')"
   ]
  },
  {
   "cell_type": "code",
   "execution_count": null,
   "id": "c7d5902c",
   "metadata": {},
   "outputs": [],
   "source": []
  }
 ],
 "metadata": {
  "kernelspec": {
   "display_name": "Python 3",
   "language": "python",
   "name": "python3"
  },
  "language_info": {
   "codemirror_mode": {
    "name": "ipython",
    "version": 3
   },
   "file_extension": ".py",
   "mimetype": "text/x-python",
   "name": "python",
   "nbconvert_exporter": "python",
   "pygments_lexer": "ipython3",
   "version": "3.8.8"
  }
 },
 "nbformat": 4,
 "nbformat_minor": 5
}
